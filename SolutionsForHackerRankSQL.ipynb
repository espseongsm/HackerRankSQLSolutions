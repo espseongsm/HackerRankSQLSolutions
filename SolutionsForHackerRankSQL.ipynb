{
 "cells": [
  {
   "cell_type": "markdown",
   "metadata": {},
   "source": [
    "# HackerRank SQL Solutions, using Pandas"
   ]
  },
  {
   "cell_type": "markdown",
   "metadata": {},
   "source": [
    "## Higher than 75 marks\n",
    "Question: Query the Name of any students in Students who scored higher than 75 marks. Order your output by the last three characters of each name. If two or more students both have names ending in the same last three characters such as Bobby, Robby, etc., secondary sort them by ascending ID."
   ]
  },
  {
   "cell_type": "code",
   "execution_count": 48,
   "metadata": {
    "ExecuteTime": {
     "end_time": "2020-12-28T16:48:35.543691Z",
     "start_time": "2020-12-28T16:48:35.510896Z"
    }
   },
   "outputs": [
    {
     "data": {
      "text/plain": [
       "0    Ashley\n",
       "1     Julia\n",
       "2    Belvet\n",
       "Name: Name, dtype: object"
      ]
     },
     "execution_count": 48,
     "metadata": {},
     "output_type": "execute_result"
    }
   ],
   "source": [
    "# There are three conditions.\n",
    "# condition 1: higher than 75 marks\n",
    "# condition 2: order by the last three characters of each name\n",
    "# condition 3: if the condition 2 is the same, secondary sort them by ID in ascending order\n",
    "#, which means that smaller one comes first\n",
    "\n",
    "import pandas as pd\n",
    "\n",
    "students = pd.read_csv('Students.csv')\n",
    "result = students[students['Marks']>75].reset_index(drop=True)\n",
    "\n",
    "for i, name in enumerate(result['Name']):\n",
    "    result.loc[i, 'LastThree'] = name[-3:]\n",
    "    \n",
    "result = result.sort_values(by=['LastThree', 'ID'], ascending=(True, True))['Name']\n",
    "result"
   ]
  }
 ],
 "metadata": {
  "kernelspec": {
   "display_name": "Python 3",
   "language": "python",
   "name": "python3"
  },
  "language_info": {
   "codemirror_mode": {
    "name": "ipython",
    "version": 3
   },
   "file_extension": ".py",
   "mimetype": "text/x-python",
   "name": "python",
   "nbconvert_exporter": "python",
   "pygments_lexer": "ipython3",
   "version": "3.8.5"
  },
  "latex_envs": {
   "LaTeX_envs_menu_present": true,
   "autoclose": false,
   "autocomplete": true,
   "bibliofile": "biblio.bib",
   "cite_by": "apalike",
   "current_citInitial": 1,
   "eqLabelWithNumbers": true,
   "eqNumInitial": 1,
   "hotkeys": {
    "equation": "Ctrl-E",
    "itemize": "Ctrl-I"
   },
   "labels_anchors": false,
   "latex_user_defs": false,
   "report_style_numbering": false,
   "user_envs_cfg": false
  },
  "toc": {
   "base_numbering": 1,
   "nav_menu": {},
   "number_sections": true,
   "sideBar": true,
   "skip_h1_title": false,
   "title_cell": "Table of Contents",
   "title_sidebar": "Contents",
   "toc_cell": false,
   "toc_position": {},
   "toc_section_display": true,
   "toc_window_display": false
  }
 },
 "nbformat": 4,
 "nbformat_minor": 4
}
