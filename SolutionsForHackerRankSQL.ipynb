{
 "cells": [
  {
   "cell_type": "markdown",
   "metadata": {
    "toc": true
   },
   "source": [
    "<h1>Table of Contents<span class=\"tocSkip\"></span></h1>\n",
    "<div class=\"toc\"><ul class=\"toc-item\"><li><span><a href=\"#HackerRank-SQL-Solutions,-using-Pandas-and-SQL\" data-toc-modified-id=\"HackerRank-SQL-Solutions,-using-Pandas-and-SQL-1\">HackerRank SQL Solutions, using Pandas and SQL</a></span><ul class=\"toc-item\"><li><span><a href=\"#Higher-than-75-marks\" data-toc-modified-id=\"Higher-than-75-marks-1.1\">Higher than 75 marks</a></span><ul class=\"toc-item\"><li><span><a href=\"#Pandas\" data-toc-modified-id=\"Pandas-1.1.1\">Pandas</a></span></li><li><span><a href=\"#SQL\" data-toc-modified-id=\"SQL-1.1.2\">SQL</a></span></li></ul></li><li><span><a href=\"#Employee-Names\" data-toc-modified-id=\"Employee-Names-1.2\">Employee Names</a></span><ul class=\"toc-item\"><li><span><a href=\"#Pandas\" data-toc-modified-id=\"Pandas-1.2.1\">Pandas</a></span></li><li><span><a href=\"#SQL\" data-toc-modified-id=\"SQL-1.2.2\">SQL</a></span></li></ul></li><li><span><a href=\"#Employee-Salaries\" data-toc-modified-id=\"Employee-Salaries-1.3\">Employee Salaries</a></span><ul class=\"toc-item\"><li><span><a href=\"#Pandas\" data-toc-modified-id=\"Pandas-1.3.1\">Pandas</a></span></li><li><span><a href=\"#SQL\" data-toc-modified-id=\"SQL-1.3.2\">SQL</a></span></li></ul></li><li><span><a href=\"#Type-of-Triangle\" data-toc-modified-id=\"Type-of-Triangle-1.4\">Type of Triangle</a></span><ul class=\"toc-item\"><li><span><a href=\"#Pandas\" data-toc-modified-id=\"Pandas-1.4.1\">Pandas</a></span></li><li><span><a href=\"#SQL\" data-toc-modified-id=\"SQL-1.4.2\">SQL</a></span></li></ul></li><li><span><a href=\"#The-PADS\" data-toc-modified-id=\"The-PADS-1.5\">The PADS</a></span><ul class=\"toc-item\"><li><span><a href=\"#Pandas\" data-toc-modified-id=\"Pandas-1.5.1\">Pandas</a></span></li><li><span><a href=\"#SQL\" data-toc-modified-id=\"SQL-1.5.2\">SQL</a></span></li></ul></li><li><span><a href=\"#Occupations\" data-toc-modified-id=\"Occupations-1.6\">Occupations</a></span><ul class=\"toc-item\"><li><span><a href=\"#Pandas\" data-toc-modified-id=\"Pandas-1.6.1\">Pandas</a></span></li></ul></li><li><span><a href=\"#Binary-Tree-Node\" data-toc-modified-id=\"Binary-Tree-Node-1.7\">Binary Tree Node</a></span><ul class=\"toc-item\"><li><span><a href=\"#Pandas\" data-toc-modified-id=\"Pandas-1.7.1\">Pandas</a></span></li></ul></li><li><span><a href=\"#New-Companies\" data-toc-modified-id=\"New-Companies-1.8\">New Companies</a></span><ul class=\"toc-item\"><li><span><a href=\"#Pandas\" data-toc-modified-id=\"Pandas-1.8.1\">Pandas</a></span></li></ul></li><li><span><a href=\"#The-Blunder\" data-toc-modified-id=\"The-Blunder-1.9\">The Blunder</a></span><ul class=\"toc-item\"><li><span><a href=\"#Pandas\" data-toc-modified-id=\"Pandas-1.9.1\">Pandas</a></span></li></ul></li><li><span><a href=\"#Top-Earners\" data-toc-modified-id=\"Top-Earners-1.10\">Top Earners</a></span><ul class=\"toc-item\"><li><span><a href=\"#Pandas\" data-toc-modified-id=\"Pandas-1.10.1\">Pandas</a></span></li><li><span><a href=\"#SQL\" data-toc-modified-id=\"SQL-1.10.2\">SQL</a></span></li></ul></li></ul></li></ul></div>"
   ]
  },
  {
   "cell_type": "markdown",
   "metadata": {},
   "source": [
    "# HackerRank SQL Solutions, using Pandas and SQL"
   ]
  },
  {
   "cell_type": "markdown",
   "metadata": {},
   "source": [
    "## Higher than 75 marks\n",
    "Question: Query the Name of any students in Students who scored higher than 75 marks. Order your output by the last three characters of each name. If two or more students both have names ending in the same last three characters such as Bobby, Robby, etc., secondary sort them by ascending ID."
   ]
  },
  {
   "cell_type": "markdown",
   "metadata": {},
   "source": [
    "### Pandas"
   ]
  },
  {
   "cell_type": "code",
   "execution_count": 1,
   "metadata": {
    "ExecuteTime": {
     "end_time": "2021-01-10T02:23:49.926013Z",
     "start_time": "2021-01-10T02:23:49.678127Z"
    }
   },
   "outputs": [
    {
     "data": {
      "text/plain": [
       "0    Ashley\n",
       "1     Julia\n",
       "2    Belvet\n",
       "Name: Name, dtype: object"
      ]
     },
     "execution_count": 1,
     "metadata": {},
     "output_type": "execute_result"
    }
   ],
   "source": [
    "# There are three conditions.\n",
    "# condition 1: higher than 75 marks\n",
    "# condition 2: order by the last three characters of each name\n",
    "# condition 3: if the condition 2 is the same, secondary sort them by ID in ascending order\n",
    "# , which means that smaller one comes first\n",
    "\n",
    "import pandas as pd\n",
    "\n",
    "students = pd.read_csv('Students.csv')\n",
    "result = students[students['Marks'] > 75].reset_index(drop=True)\n",
    "\n",
    "for i, name in enumerate(result['Name']):\n",
    "    result.loc[i, 'LastThree'] = name[-3:]\n",
    "\n",
    "result = result.sort_values(\n",
    "    by=['LastThree', 'ID'], ascending=(True, True))['Name']\n",
    "result"
   ]
  },
  {
   "cell_type": "markdown",
   "metadata": {},
   "source": [
    "### SQL"
   ]
  },
  {
   "cell_type": "code",
   "execution_count": 2,
   "metadata": {
    "ExecuteTime": {
     "end_time": "2021-01-10T02:23:50.322295Z",
     "start_time": "2021-01-10T02:23:49.927212Z"
    }
   },
   "outputs": [
    {
     "data": {
      "text/plain": [
       "[('Ashley',), ('Julia',), ('Belvet',)]"
      ]
     },
     "execution_count": 2,
     "metadata": {},
     "output_type": "execute_result"
    }
   ],
   "source": [
    "# creating a database\n",
    "import sqlite3\n",
    "from pathlib import Path\n",
    "Path('students.db').touch()\n",
    "\n",
    "# connecting the database\n",
    "conn = sqlite3.connect('students.db')\n",
    "c = conn.cursor()\n",
    "\n",
    "# creating a table in the database\n",
    "c.execute('''DROP TABLE students''')\n",
    "c.execute('''CREATE TABLE students (ID int, Name text, Marks int)''')\n",
    "\n",
    "# write the data to a sqlite table\n",
    "students.to_sql('students', conn, if_exists='replace', index=False)\n",
    "\n",
    "# execute sql query\n",
    "c.execute('''SELECT Name FROM students \n",
    "             WHERE Marks > 75 \n",
    "             ORDER BY substr(Name, -3, 3) ASC, ID ASC''')\n",
    "# substr function has three arguments: string, starting point, length I want\n",
    "c.fetchall()\n",
    "\n"
   ]
  },
  {
   "cell_type": "markdown",
   "metadata": {},
   "source": [
    "## Employee Names\n",
    "\n",
    "Question: Print a list of employee names from the Employee table in alphabetical order"
   ]
  },
  {
   "cell_type": "markdown",
   "metadata": {},
   "source": [
    "### Pandas"
   ]
  },
  {
   "cell_type": "code",
   "execution_count": 4,
   "metadata": {
    "ExecuteTime": {
     "end_time": "2021-01-10T01:27:45.510814Z",
     "start_time": "2021-01-10T01:27:45.494200Z"
    },
    "scrolled": false
   },
   "outputs": [
    {
     "data": {
      "text/plain": [
       "1      Angela\n",
       "6      Bonnie\n",
       "2       Frank\n",
       "9         Joe\n",
       "5    Kimberly\n",
       "4        Lisa\n",
       "7     Michael\n",
       "3     Patrick\n",
       "0        Rose\n",
       "8        Todd\n",
       "Name: name, dtype: object"
      ]
     },
     "execution_count": 4,
     "metadata": {},
     "output_type": "execute_result"
    }
   ],
   "source": [
    "import pandas as pd\n",
    "\n",
    "employee = pd.read_csv('Employee.csv')\n",
    "employee.sort_values(['name'])['name']"
   ]
  },
  {
   "cell_type": "markdown",
   "metadata": {},
   "source": [
    "### SQL"
   ]
  },
  {
   "cell_type": "code",
   "execution_count": 207,
   "metadata": {
    "ExecuteTime": {
     "end_time": "2021-01-03T13:39:42.506158Z",
     "start_time": "2021-01-03T13:39:42.485436Z"
    }
   },
   "outputs": [
    {
     "data": {
      "text/plain": [
       "[('Angela',),\n",
       " ('Bonnie',),\n",
       " ('Frank',),\n",
       " ('Joe',),\n",
       " ('Kimberly',),\n",
       " ('Lisa',),\n",
       " ('Michael',),\n",
       " ('Patrick',),\n",
       " ('Rose',),\n",
       " ('Todd',)]"
      ]
     },
     "execution_count": 207,
     "metadata": {},
     "output_type": "execute_result"
    }
   ],
   "source": [
    "# creating a database\n",
    "import sqlite3\n",
    "from pathlib import Path\n",
    "Path('employee.db').touch()\n",
    "\n",
    "# connecting the database\n",
    "conn = sqlite3.connect('employee.db')\n",
    "c = conn.cursor()\n",
    "\n",
    "# creating a table in the database\n",
    "# c.execute('''DROP TABLE employee''')\n",
    "c.execute(\n",
    "    '''CREATE TABLE employee (employee_id int, name text, months int, salary int)''')\n",
    "\n",
    "# write the data to a sqlite table\n",
    "employee.to_sql('employee', conn, if_exists='replace', index=False)\n",
    "\n",
    "# execute sql query\n",
    "c.execute('''SELECT name FROM employee \n",
    "             ORDER BY name ASC''')\n",
    "c.fetchall()"
   ]
  },
  {
   "cell_type": "markdown",
   "metadata": {},
   "source": [
    "## Employee Salaries\n",
    "\n",
    "Question: Print a list of employee names for employees in Employee having a salary greater than $ 2,000 per month who have been employeed for less than 10 months."
   ]
  },
  {
   "cell_type": "markdown",
   "metadata": {},
   "source": [
    "### Pandas"
   ]
  },
  {
   "cell_type": "code",
   "execution_count": 208,
   "metadata": {
    "ExecuteTime": {
     "end_time": "2021-01-03T13:42:00.866037Z",
     "start_time": "2021-01-03T13:42:00.834847Z"
    }
   },
   "outputs": [
    {
     "data": {
      "text/plain": [
       "1     Angela\n",
       "7    Michael\n",
       "8       Todd\n",
       "9        Joe\n",
       "Name: name, dtype: object"
      ]
     },
     "execution_count": 208,
     "metadata": {},
     "output_type": "execute_result"
    }
   ],
   "source": [
    "# Pandas# There are two conditions.\n",
    "# Condition 1: a salary is greater than $ 2,000 per month.\n",
    "# Condition 2: one has been employeed for less than 10 months.\n",
    "\n",
    "import pandas as pd\n",
    "\n",
    "employee = pd.read_csv('Employee.csv')\n",
    "employee[(employee['salary'] > 2000) & (employee['months'] < 10)]['name']"
   ]
  },
  {
   "cell_type": "code",
   "execution_count": 362,
   "metadata": {
    "ExecuteTime": {
     "end_time": "2021-01-06T20:40:43.249520Z",
     "start_time": "2021-01-06T20:40:43.165602Z"
    }
   },
   "outputs": [
    {
     "data": {
      "text/html": [
       "<div>\n",
       "<style scoped>\n",
       "    .dataframe tbody tr th:only-of-type {\n",
       "        vertical-align: middle;\n",
       "    }\n",
       "\n",
       "    .dataframe tbody tr th {\n",
       "        vertical-align: top;\n",
       "    }\n",
       "\n",
       "    .dataframe thead th {\n",
       "        text-align: right;\n",
       "    }\n",
       "</style>\n",
       "<table border=\"1\" class=\"dataframe\">\n",
       "  <thead>\n",
       "    <tr style=\"text-align: right;\">\n",
       "      <th></th>\n",
       "      <th>employee_id</th>\n",
       "      <th>name</th>\n",
       "      <th>months</th>\n",
       "      <th>salary</th>\n",
       "    </tr>\n",
       "  </thead>\n",
       "  <tbody>\n",
       "    <tr>\n",
       "      <th>0</th>\n",
       "      <td>12228</td>\n",
       "      <td>Rose</td>\n",
       "      <td>15</td>\n",
       "      <td>1968</td>\n",
       "    </tr>\n",
       "    <tr>\n",
       "      <th>1</th>\n",
       "      <td>33645</td>\n",
       "      <td>Angela</td>\n",
       "      <td>1</td>\n",
       "      <td>3443</td>\n",
       "    </tr>\n",
       "    <tr>\n",
       "      <th>2</th>\n",
       "      <td>45692</td>\n",
       "      <td>Frank</td>\n",
       "      <td>17</td>\n",
       "      <td>1608</td>\n",
       "    </tr>\n",
       "    <tr>\n",
       "      <th>3</th>\n",
       "      <td>56118</td>\n",
       "      <td>Patrick</td>\n",
       "      <td>7</td>\n",
       "      <td>1345</td>\n",
       "    </tr>\n",
       "    <tr>\n",
       "      <th>4</th>\n",
       "      <td>59725</td>\n",
       "      <td>Lisa</td>\n",
       "      <td>11</td>\n",
       "      <td>2330</td>\n",
       "    </tr>\n",
       "    <tr>\n",
       "      <th>5</th>\n",
       "      <td>74197</td>\n",
       "      <td>Kimberly</td>\n",
       "      <td>16</td>\n",
       "      <td>4372</td>\n",
       "    </tr>\n",
       "    <tr>\n",
       "      <th>6</th>\n",
       "      <td>78454</td>\n",
       "      <td>Bonnie</td>\n",
       "      <td>8</td>\n",
       "      <td>1771</td>\n",
       "    </tr>\n",
       "    <tr>\n",
       "      <th>7</th>\n",
       "      <td>83565</td>\n",
       "      <td>Michael</td>\n",
       "      <td>6</td>\n",
       "      <td>2017</td>\n",
       "    </tr>\n",
       "    <tr>\n",
       "      <th>8</th>\n",
       "      <td>98607</td>\n",
       "      <td>Todd</td>\n",
       "      <td>5</td>\n",
       "      <td>3396</td>\n",
       "    </tr>\n",
       "    <tr>\n",
       "      <th>9</th>\n",
       "      <td>99989</td>\n",
       "      <td>Joe</td>\n",
       "      <td>9</td>\n",
       "      <td>3573</td>\n",
       "    </tr>\n",
       "  </tbody>\n",
       "</table>\n",
       "</div>"
      ],
      "text/plain": [
       "   employee_id      name  months  salary\n",
       "0        12228      Rose      15    1968\n",
       "1        33645    Angela       1    3443\n",
       "2        45692     Frank      17    1608\n",
       "3        56118   Patrick       7    1345\n",
       "4        59725      Lisa      11    2330\n",
       "5        74197  Kimberly      16    4372\n",
       "6        78454    Bonnie       8    1771\n",
       "7        83565   Michael       6    2017\n",
       "8        98607      Todd       5    3396\n",
       "9        99989       Joe       9    3573"
      ]
     },
     "execution_count": 362,
     "metadata": {},
     "output_type": "execute_result"
    }
   ],
   "source": [
    "employee"
   ]
  },
  {
   "cell_type": "markdown",
   "metadata": {},
   "source": [
    "### SQL"
   ]
  },
  {
   "cell_type": "code",
   "execution_count": 211,
   "metadata": {
    "ExecuteTime": {
     "end_time": "2021-01-03T13:42:57.490259Z",
     "start_time": "2021-01-03T13:42:57.482184Z"
    }
   },
   "outputs": [
    {
     "data": {
      "text/plain": [
       "[('Angela',), ('Joe',), ('Michael',), ('Todd',)]"
      ]
     },
     "execution_count": 211,
     "metadata": {},
     "output_type": "execute_result"
    }
   ],
   "source": [
    "# execute sql query\n",
    "c.execute('''SELECT name FROM employee\n",
    "             WHERE salary > 2000 and months < 10\n",
    "             ORDER BY name ASC''')\n",
    "c.fetchall()"
   ]
  },
  {
   "cell_type": "markdown",
   "metadata": {},
   "source": [
    "## Type of Triangle\n",
    "\n",
    "Question: Write a query indentifying the type of each record in the TRIANGLES table using its three side lengths. Output one of the following statements for each record in the table:\n",
    "- Equilateral: it's a triangle with 3 sides of equal length\n",
    "- Isosceles: it's a triangle with 2 sides of equal length\n",
    "- Scalene: it's a triangle with 3 sides of differing lengths\n",
    "- Not A Triangle: the given values of A, B, and C don't form a triangle"
   ]
  },
  {
   "cell_type": "markdown",
   "metadata": {},
   "source": [
    "### Pandas"
   ]
  },
  {
   "cell_type": "code",
   "execution_count": 37,
   "metadata": {
    "ExecuteTime": {
     "end_time": "2020-12-31T17:24:27.404855Z",
     "start_time": "2020-12-31T17:24:27.380666Z"
    },
    "scrolled": false
   },
   "outputs": [
    {
     "data": {
      "text/plain": [
       "0         Isosceles\n",
       "1       Equilateral\n",
       "2           Scalene\n",
       "3    Not A Triangle\n",
       "Name: Type, dtype: object"
      ]
     },
     "execution_count": 37,
     "metadata": {},
     "output_type": "execute_result"
    }
   ],
   "source": [
    "# Pandas# first, figure out whether each row forms a triangle, which means that\n",
    "# if one of sides is longer than the sum of other two sides, that doesn't form a triangle.\n",
    "# then, set the type of triangles\n",
    "\n",
    "import pandas as pd\n",
    "\n",
    "triangles = pd.read_csv('TRIANGLES.csv')\n",
    "triangles['Type'] = ''\n",
    "\n",
    "for i, row in triangles.iterrows():\n",
    "    if row[0] > row[1] + row[2] or row[1] > row[2] + row[0] or row[2] > row[1] + row[0]:\n",
    "        triangles.loc[i, 'Type'] = 'Not A Triangle'\n",
    "    else:\n",
    "        if row[0] == row[1] == row[2]:\n",
    "            triangles.loc[i, 'Type'] = 'Equilateral'\n",
    "        elif row[0] == row[1] or row[0] == row[2] or row[1] == row[2]:\n",
    "            triangles.loc[i, 'Type'] = 'Isosceles'\n",
    "        else:\n",
    "            triangles.loc[i, 'Type'] = 'Scalene'\n",
    "\n",
    "triangles['Type']"
   ]
  },
  {
   "cell_type": "markdown",
   "metadata": {},
   "source": [
    "### SQL"
   ]
  },
  {
   "cell_type": "code",
   "execution_count": 248,
   "metadata": {
    "ExecuteTime": {
     "end_time": "2021-01-03T14:06:14.550831Z",
     "start_time": "2021-01-03T14:06:14.529080Z"
    }
   },
   "outputs": [],
   "source": [
    "# creating a database\n",
    "import sqlite3\n",
    "from pathlib import Path\n",
    "Path('triangle.db').touch()\n",
    "\n",
    "# connecting the database\n",
    "conn = sqlite3.connect('triangle.db')\n",
    "c = conn.cursor()\n",
    "\n",
    "# creating a table in the database\n",
    "c.execute('''DROP TABLE triangle''')\n",
    "c.execute('''CREATE TABLE triangle (A int, B int, C int)''')\n",
    "\n",
    "# write the data to a sqlite table\n",
    "triangles = pd.read_csv('TRIANGLES.csv')\n",
    "triangles.to_sql('triangle', conn, if_exists='replace', index=False)"
   ]
  },
  {
   "cell_type": "code",
   "execution_count": 278,
   "metadata": {
    "ExecuteTime": {
     "end_time": "2021-01-03T14:21:57.696245Z",
     "start_time": "2021-01-03T14:21:57.686802Z"
    },
    "scrolled": true
   },
   "outputs": [
    {
     "data": {
      "text/plain": [
       "[('Isosceles',), ('Equilateral',), ('Scalene',), ('Not A Triangle',)]"
      ]
     },
     "execution_count": 278,
     "metadata": {},
     "output_type": "execute_result"
    }
   ],
   "source": [
    "# execute sql query\n",
    "# to see column names: c.execute('''PRAGMA table_info(triangle)''').fetchall()\n",
    "c.execute('''SELECT \n",
    "             CASE WHEN A + B > C AND A + C > B AND B + C > A THEN \n",
    "                 CASE WHEN A = B AND B = C THEN 'Equilateral' \n",
    "                      WHEN A = B OR B = C OR A = C THEN 'Isosceles' \n",
    "                      WHEN A != B OR B != C OR A != C THEN 'Scalene' \n",
    "                      END ELSE 'Not A Triangle' END \n",
    "                      FROM triangle''')\n",
    "c.fetchall()"
   ]
  },
  {
   "cell_type": "markdown",
   "metadata": {},
   "source": [
    "## The PADS\n",
    "Question1: query an alphabetically ordered list of all names in Occupations, immediately followed by the first letter of each profession as a parenthetical (i.e.: enclosed in parentheses). For example: AnActorName(A), ADoctorName(D), AProfessorName(P), and ASingerName(S).\n",
    "\n",
    "Question2: Query the number of occurences of each occupation in Occupations. Sort the occurences in ascending order, and output them in the following format: `There are a total of [occupation_count] [occupation]s.` [occupation] is the lowercase occupation name. If more than one occupation has the same [occupation_count], they should be ordered alphabetically.\n",
    "\n"
   ]
  },
  {
   "cell_type": "markdown",
   "metadata": {},
   "source": [
    "### Pandas"
   ]
  },
  {
   "cell_type": "code",
   "execution_count": 342,
   "metadata": {
    "ExecuteTime": {
     "end_time": "2021-01-06T14:46:08.471645Z",
     "start_time": "2021-01-06T14:46:08.443661Z"
    }
   },
   "outputs": [
    {
     "data": {
      "text/plain": [
       "4       Ashely(P)\n",
       "6    Christeen(P)\n",
       "7         Jane(A)\n",
       "8        Jenny(D)\n",
       "1        Julia(A)\n",
       "5        Ketty(P)\n",
       "2        Maria(A)\n",
       "3        Meera(S)\n",
       "9        Priya(S)\n",
       "0     Samantha(D)\n",
       "Name: Name_O, dtype: object"
      ]
     },
     "execution_count": 342,
     "metadata": {},
     "output_type": "execute_result"
    }
   ],
   "source": [
    "# question 1\n",
    "\n",
    "import pandas as pd\n",
    "\n",
    "occupations = pd.read_csv('Occupations.csv')\n",
    "occupations['Name_O'] = ''\n",
    "\n",
    "for i, occupation in enumerate(occupations['Occupation']):\n",
    "    if occupation == 'Doctor':\n",
    "        occupations.loc[i, 'Name_O'] = occupations.loc[i, 'Name'] + '(D)'\n",
    "    elif occupation == 'Actor':\n",
    "        occupations.loc[i, 'Name_O'] = occupations.loc[i, 'Name'] + '(A)'\n",
    "    elif occupation == 'Singer':\n",
    "        occupations.loc[i, 'Name_O'] = occupations.loc[i, 'Name'] + '(S)'\n",
    "    else:\n",
    "        occupations.loc[i, 'Name_O'] = occupations.loc[i, 'Name'] + '(P)'\n",
    "\n",
    "\n",
    "result1 = occupations.sort_values('Name')['Name_O']\n",
    "result1"
   ]
  },
  {
   "cell_type": "code",
   "execution_count": 343,
   "metadata": {
    "ExecuteTime": {
     "end_time": "2021-01-06T14:46:50.960790Z",
     "start_time": "2021-01-06T14:46:50.932124Z"
    }
   },
   "outputs": [
    {
     "data": {
      "text/plain": [
       "0       There are a total of 2 doctors.\n",
       "1       There are a total of 2 singers.\n",
       "2        There are a total of 3 actors.\n",
       "3    There are a total of 3 professors.\n",
       "Name: Explanation, dtype: object"
      ]
     },
     "execution_count": 343,
     "metadata": {},
     "output_type": "execute_result"
    }
   ],
   "source": [
    "# Question 2\n",
    "occupations.drop(columns='Name_O', inplace=True)\n",
    "\n",
    "result2 = occupations.groupby('Occupation').agg('count')\n",
    "result2 = result2.sort_values(['Name', 'Occupation']).reset_index()\n",
    "result2['Explanation'] = ''\n",
    "\n",
    "for i, occupation in enumerate(result2['Occupation']):\n",
    "    result2.loc[i, 'Explanation'] = ('There are a total of ' + str(result2.loc[i, 'Name'])\n",
    "                                     + ' ' + result2.loc[i, 'Occupation'].lower() + 's.')\n",
    "result2 = result2['Explanation']\n",
    "result2"
   ]
  },
  {
   "cell_type": "markdown",
   "metadata": {},
   "source": [
    "### SQL"
   ]
  },
  {
   "cell_type": "code",
   "execution_count": 341,
   "metadata": {
    "ExecuteTime": {
     "end_time": "2021-01-06T14:39:26.360448Z",
     "start_time": "2021-01-06T14:39:26.337436Z"
    }
   },
   "outputs": [],
   "source": [
    "# creating a database\n",
    "import sqlite3\n",
    "from pathlib import Path\n",
    "Path('occupation.db').touch()\n",
    "\n",
    "# connecting the database\n",
    "conn = sqlite3.connect('occupation.db')\n",
    "c = conn.cursor()\n",
    "\n",
    "# creating a table in the database\n",
    "# c.execute('''DROP TABLE occupation''')\n",
    "c.execute('''CREATE TABLE occupation (Name text, Occupation text)''')\n",
    "\n",
    "# write the data to a sqlite table\n",
    "occupations = pd.read_csv('Occupations.csv')\n",
    "occupations.to_sql('occupation', conn, if_exists='replace', index=False)"
   ]
  },
  {
   "cell_type": "code",
   "execution_count": 348,
   "metadata": {
    "ExecuteTime": {
     "end_time": "2021-01-06T14:50:26.745183Z",
     "start_time": "2021-01-06T14:50:26.737567Z"
    },
    "code_folding": [
     3
    ]
   },
   "outputs": [
    {
     "data": {
      "text/plain": [
       "[('Ashely(P)',),\n",
       " ('Christeen(P)',),\n",
       " ('Jane(A)',),\n",
       " ('Jenny(D)',),\n",
       " ('Julia(A)',),\n",
       " ('Ketty(P)',),\n",
       " ('Maria(A)',),\n",
       " ('Meera(S)',),\n",
       " ('Priya(S)',),\n",
       " ('Samantha(D)',)]"
      ]
     },
     "execution_count": 348,
     "metadata": {},
     "output_type": "execute_result"
    }
   ],
   "source": [
    "# question 1\n",
    "# execute sql query\n",
    "# to see column names: c.execute('''PRAGMA table_info(triangle)''').fetchall()\n",
    "c.execute('''SELECT (Name||'('||substr(Occupation, 1, 1)||')') FROM occupation\n",
    "             ORDER BY Name''')\n",
    "c.fetchall()"
   ]
  },
  {
   "cell_type": "code",
   "execution_count": 353,
   "metadata": {
    "ExecuteTime": {
     "end_time": "2021-01-06T14:56:01.084930Z",
     "start_time": "2021-01-06T14:56:01.078744Z"
    }
   },
   "outputs": [
    {
     "data": {
      "text/plain": [
       "[('There are a total of 2 doctors.',),\n",
       " ('There are a total of 2 singers.',),\n",
       " ('There are a total of 3 actors.',),\n",
       " ('There are a total of 3 professors.',)]"
      ]
     },
     "execution_count": 353,
     "metadata": {},
     "output_type": "execute_result"
    }
   ],
   "source": [
    "# question 2\n",
    "c.execute('''SELECT ('There are a total of '||COUNT(occupation)||' '||lower(occupation)||'s.') AS total \n",
    "             FROM occupation\n",
    "             GROUP BY occupation\n",
    "             ORDER BY total ''')\n",
    "c.fetchall()"
   ]
  },
  {
   "cell_type": "markdown",
   "metadata": {},
   "source": [
    "## Occupations\n",
    "Question: Pivot the Occupation column in OCCUPATIONS so that each Name is sorted alphabetically and displayed underneath its corresponding Occupation. The output column headers should be Doctor, Professor, Singer, and Actor, respectively."
   ]
  },
  {
   "cell_type": "markdown",
   "metadata": {},
   "source": [
    "### Pandas"
   ]
  },
  {
   "cell_type": "code",
   "execution_count": 160,
   "metadata": {
    "ExecuteTime": {
     "end_time": "2021-01-02T13:54:21.273596Z",
     "start_time": "2021-01-02T13:54:21.245830Z"
    }
   },
   "outputs": [
    {
     "data": {
      "text/html": [
       "<div>\n",
       "<style scoped>\n",
       "    .dataframe tbody tr th:only-of-type {\n",
       "        vertical-align: middle;\n",
       "    }\n",
       "\n",
       "    .dataframe tbody tr th {\n",
       "        vertical-align: top;\n",
       "    }\n",
       "\n",
       "    .dataframe thead th {\n",
       "        text-align: right;\n",
       "    }\n",
       "</style>\n",
       "<table border=\"1\" class=\"dataframe\">\n",
       "  <thead>\n",
       "    <tr style=\"text-align: right;\">\n",
       "      <th>Occupation</th>\n",
       "      <th>Doctor</th>\n",
       "      <th>Professor</th>\n",
       "      <th>Singer</th>\n",
       "      <th>Actor</th>\n",
       "    </tr>\n",
       "  </thead>\n",
       "  <tbody>\n",
       "    <tr>\n",
       "      <th>Name</th>\n",
       "      <td>[Samantha, Jenny]</td>\n",
       "      <td>[Ashely, Ketty, Christeen]</td>\n",
       "      <td>[Meera, Priya]</td>\n",
       "      <td>[Julia, Maria, Jane]</td>\n",
       "    </tr>\n",
       "  </tbody>\n",
       "</table>\n",
       "</div>"
      ],
      "text/plain": [
       "Occupation             Doctor                   Professor          Singer  \\\n",
       "Name        [Samantha, Jenny]  [Ashely, Ketty, Christeen]  [Meera, Priya]   \n",
       "\n",
       "Occupation                 Actor  \n",
       "Name        [Julia, Maria, Jane]  "
      ]
     },
     "execution_count": 160,
     "metadata": {},
     "output_type": "execute_result"
    }
   ],
   "source": [
    "import pandas as pd\n",
    "\n",
    "df = pd.read_csv('Occupations.csv')\n",
    "groups = df.groupby('Occupation')['Name'].apply(list).reset_index()\n",
    "result = groups.T\n",
    "new_header = result.iloc[0]\n",
    "result = result[1:]\n",
    "result.columns = new_header\n",
    "result = result[['Doctor', 'Professor', 'Singer', 'Actor']]\n",
    "result\n",
    "# groups = df.groupby('Occupation').agg(lambda x: list(x))\n",
    "# groups\n",
    "# for name, group in groups:\n",
    "#     print(name)\n",
    "#     print(group)"
   ]
  },
  {
   "cell_type": "markdown",
   "metadata": {},
   "source": [
    "## Binary Tree Node\n",
    "Question: Write a query to find the node type of Binary Tree ordered by the value of the node. Output one of the following for each node:\n",
    "\n",
    "- Root: If node is root node.\n",
    "- Leaf: If node is leaf node.\n",
    "- Inner: If node is neither root nor leaf node.\n",
    "### Pandas"
   ]
  },
  {
   "cell_type": "code",
   "execution_count": 336,
   "metadata": {
    "ExecuteTime": {
     "end_time": "2021-01-05T01:08:02.186381Z",
     "start_time": "2021-01-05T01:08:02.162313Z"
    }
   },
   "outputs": [
    {
     "data": {
      "text/html": [
       "<style  type=\"text/css\" >\n",
       "</style><table id=\"T_754ae32e_4ef2_11eb_b86e_1e00e23aca8a\" ><thead>    <tr>        <th class=\"col_heading level0 col0\" >N</th>        <th class=\"col_heading level0 col2\" >NodeType</th>    </tr></thead><tbody>\n",
       "                <tr>\n",
       "                                <td id=\"T_754ae32e_4ef2_11eb_b86e_1e00e23aca8arow0_col0\" class=\"data row0 col0\" >1</td>\n",
       "                                <td id=\"T_754ae32e_4ef2_11eb_b86e_1e00e23aca8arow0_col2\" class=\"data row0 col2\" >Leaf</td>\n",
       "            </tr>\n",
       "            <tr>\n",
       "                                <td id=\"T_754ae32e_4ef2_11eb_b86e_1e00e23aca8arow1_col0\" class=\"data row1 col0\" >2</td>\n",
       "                                <td id=\"T_754ae32e_4ef2_11eb_b86e_1e00e23aca8arow1_col2\" class=\"data row1 col2\" >Inner</td>\n",
       "            </tr>\n",
       "            <tr>\n",
       "                                <td id=\"T_754ae32e_4ef2_11eb_b86e_1e00e23aca8arow2_col0\" class=\"data row2 col0\" >3</td>\n",
       "                                <td id=\"T_754ae32e_4ef2_11eb_b86e_1e00e23aca8arow2_col2\" class=\"data row2 col2\" >Leaf</td>\n",
       "            </tr>\n",
       "            <tr>\n",
       "                                <td id=\"T_754ae32e_4ef2_11eb_b86e_1e00e23aca8arow3_col0\" class=\"data row3 col0\" >5</td>\n",
       "                                <td id=\"T_754ae32e_4ef2_11eb_b86e_1e00e23aca8arow3_col2\" class=\"data row3 col2\" >Root</td>\n",
       "            </tr>\n",
       "            <tr>\n",
       "                                <td id=\"T_754ae32e_4ef2_11eb_b86e_1e00e23aca8arow4_col0\" class=\"data row4 col0\" >6</td>\n",
       "                                <td id=\"T_754ae32e_4ef2_11eb_b86e_1e00e23aca8arow4_col2\" class=\"data row4 col2\" >Leaf</td>\n",
       "            </tr>\n",
       "            <tr>\n",
       "                                <td id=\"T_754ae32e_4ef2_11eb_b86e_1e00e23aca8arow5_col0\" class=\"data row5 col0\" >8</td>\n",
       "                                <td id=\"T_754ae32e_4ef2_11eb_b86e_1e00e23aca8arow5_col2\" class=\"data row5 col2\" >Inner</td>\n",
       "            </tr>\n",
       "            <tr>\n",
       "                                <td id=\"T_754ae32e_4ef2_11eb_b86e_1e00e23aca8arow6_col0\" class=\"data row6 col0\" >9</td>\n",
       "                                <td id=\"T_754ae32e_4ef2_11eb_b86e_1e00e23aca8arow6_col2\" class=\"data row6 col2\" >Leaf</td>\n",
       "            </tr>\n",
       "    </tbody></table>"
      ],
      "text/plain": [
       "<pandas.io.formats.style.Styler at 0x7fcf38696cd0>"
      ]
     },
     "execution_count": 336,
     "metadata": {},
     "output_type": "execute_result"
    }
   ],
   "source": [
    "import pandas as pd\n",
    "\n",
    "df = pd.read_csv('BST.csv')\n",
    "df['NodeType'] = \"\"\n",
    "for i, node in enumerate(df['N']):\n",
    "    if pd.isna(df.loc[i, 'P']):\n",
    "        df.loc[i, 'NodeType'] = 'Root'\n",
    "    else:\n",
    "        if node in df['P'].values:\n",
    "            df.loc[i, 'NodeType'] = 'Inner'\n",
    "        if not node in df['P'].values:\n",
    "            df.loc[i, 'NodeType'] = 'Leaf'\n",
    "\n",
    "df.sort_values('N').style.hide_columns('P').hide_index()"
   ]
  },
  {
   "cell_type": "markdown",
   "metadata": {},
   "source": [
    "## New Companies\n",
    "Question: Amber's conglomerate corporation just acquired some new companies. Each of the companies follows this hierarchy: Founder, Lead Manager, Senior Manager, Manager, Employee\n",
    "\n",
    "Write a query to print the company_code, founder name, total number of lead managers, total number of senior managers, total number of managers, and totoal number of employees. Order your output by ascending company_code.\n",
    "### Pandas"
   ]
  },
  {
   "cell_type": "code",
   "execution_count": 383,
   "metadata": {
    "ExecuteTime": {
     "end_time": "2021-01-07T21:09:47.280313Z",
     "start_time": "2021-01-07T21:09:47.240330Z"
    }
   },
   "outputs": [
    {
     "data": {
      "text/html": [
       "<div>\n",
       "<style scoped>\n",
       "    .dataframe tbody tr th:only-of-type {\n",
       "        vertical-align: middle;\n",
       "    }\n",
       "\n",
       "    .dataframe tbody tr th {\n",
       "        vertical-align: top;\n",
       "    }\n",
       "\n",
       "    .dataframe thead th {\n",
       "        text-align: right;\n",
       "    }\n",
       "</style>\n",
       "<table border=\"1\" class=\"dataframe\">\n",
       "  <thead>\n",
       "    <tr style=\"text-align: right;\">\n",
       "      <th></th>\n",
       "      <th>company_code</th>\n",
       "      <th>founder</th>\n",
       "      <th>lead_manager_count</th>\n",
       "      <th>senior_manager_count</th>\n",
       "      <th>manager_count</th>\n",
       "      <th>employee_count</th>\n",
       "    </tr>\n",
       "  </thead>\n",
       "  <tbody>\n",
       "    <tr>\n",
       "      <th>0</th>\n",
       "      <td>C1</td>\n",
       "      <td>Monika</td>\n",
       "      <td>1</td>\n",
       "      <td>2</td>\n",
       "      <td>1</td>\n",
       "      <td>2</td>\n",
       "    </tr>\n",
       "    <tr>\n",
       "      <th>1</th>\n",
       "      <td>C2</td>\n",
       "      <td>Samantha</td>\n",
       "      <td>1</td>\n",
       "      <td>1</td>\n",
       "      <td>2</td>\n",
       "      <td>2</td>\n",
       "    </tr>\n",
       "  </tbody>\n",
       "</table>\n",
       "</div>"
      ],
      "text/plain": [
       "  company_code   founder  lead_manager_count  senior_manager_count  \\\n",
       "0           C1    Monika                   1                     2   \n",
       "1           C2  Samantha                   1                     1   \n",
       "\n",
       "   manager_count  employee_count  \n",
       "0              1               2  \n",
       "1              2               2  "
      ]
     },
     "execution_count": 383,
     "metadata": {},
     "output_type": "execute_result"
    }
   ],
   "source": [
    "import pandas as pd\n",
    "\n",
    "company = pd.read_csv('Company.csv')\n",
    "lead_manager = pd.read_csv('Lead_Manager.csv')\n",
    "senior_manager = pd.read_csv('Senior_Manager.csv')\n",
    "manager = pd.read_csv('Manager.csv')\n",
    "employee = pd.read_csv('Employee2.csv')\n",
    "\n",
    "# count the number of positions in each table\n",
    "lead_manager_count = lead_manager.groupby('company_code').agg('count')\n",
    "senior_manager_count = senior_manager.groupby(\n",
    "    'company_code')['senior_manager_code'].agg('count')\n",
    "manager_count = manager.groupby('company_code')['manager_code'].agg('count')\n",
    "employee_count = employee.groupby('company_code')['employee_code'].agg('count')\n",
    "\n",
    "# merge the counts with company table\n",
    "result = company.merge(lead_manager_count, on='company_code').merge(senior_manager_count,\n",
    "                                                                    on='company_code').merge(manager_count, on='company_code').merge(employee_count, on='company_code')\n",
    "result.columns = ['company_code', 'founder', 'lead_manager_count', 'senior_manager_count',\n",
    "                  'manager_count', 'employee_count']\n",
    "result"
   ]
  },
  {
   "cell_type": "markdown",
   "metadata": {},
   "source": [
    "## The Blunder\n",
    "Question: Given that keyboard's 0 key was broken, write a query calculating the amount of error, which is actual - miscalculated average monthly salary and round it up to the next integer.\n",
    "### Pandas"
   ]
  },
  {
   "cell_type": "code",
   "execution_count": 1,
   "metadata": {
    "ExecuteTime": {
     "end_time": "2021-01-09T02:52:01.098648Z",
     "start_time": "2021-01-09T02:52:00.683049Z"
    }
   },
   "outputs": [
    {
     "data": {
      "text/plain": [
       "2061.0"
      ]
     },
     "execution_count": 1,
     "metadata": {},
     "output_type": "execute_result"
    }
   ],
   "source": [
    "import pandas as pd\n",
    "\n",
    "employee = pd.read_csv('EMPLOYEES.csv')\n",
    "employee\n",
    "\n",
    "mis_total = 0\n",
    "total = 0\n",
    "for i, salary in enumerate(employee['Salary']):\n",
    "    # convert int to str, replace 0 to '', and convert str to int\n",
    "    mis_total += int(str(salary).replace('0', ''))\n",
    "    total += salary\n",
    "diff = (total - mis_total)/len(employee)\n",
    "diff"
   ]
  },
  {
   "cell_type": "markdown",
   "metadata": {},
   "source": [
    "## Top Earners\n",
    "Question: An employee's total earning is their monthly salary * months. Write a quety to find the maximum total earnings for all employees as well as the total number of employees who have maximum total earnings. Then print these values as 2 space-separated integers.\n",
    "\n",
    "### Pandas"
   ]
  },
  {
   "cell_type": "code",
   "execution_count": 10,
   "metadata": {
    "ExecuteTime": {
     "end_time": "2021-01-09T23:36:57.275890Z",
     "start_time": "2021-01-09T23:36:57.263080Z"
    }
   },
   "outputs": [
    {
     "name": "stdout",
     "output_type": "stream",
     "text": [
      "69952    1\n"
     ]
    }
   ],
   "source": [
    "import pandas as pd\n",
    "\n",
    "employee = pd.read_csv('Employee.csv')\n",
    "employee['total_earnings'] = employee['months']*employee['salary']\n",
    "print(max(employee['total_earnings']), '  ',\n",
    "      employee[employee['total_earnings'] == max(employee['total_earnings'])]['total_earnings'].agg('count'))"
   ]
  },
  {
   "cell_type": "markdown",
   "metadata": {},
   "source": [
    "### SQL"
   ]
  },
  {
   "cell_type": "code",
   "execution_count": 24,
   "metadata": {
    "ExecuteTime": {
     "end_time": "2021-01-09T23:48:51.790939Z",
     "start_time": "2021-01-09T23:48:51.770658Z"
    }
   },
   "outputs": [],
   "source": [
    "# creating a database\n",
    "import sqlite3\n",
    "from pathlib import Path\n",
    "Path('employee.db').touch()\n",
    "\n",
    "# connecting the database\n",
    "conn = sqlite3.connect('employee.db')\n",
    "c = conn.cursor()\n",
    "\n",
    "# creating a table in the database\n",
    "c.execute('''DROP TABLE employee''')\n",
    "c.execute(\n",
    "    '''CREATE TABLE employee (employee_id int, name text, months int, salary int)''')\n",
    "\n",
    "# write the data to a sqlite table\n",
    "employee = pd.read_csv('Employee.csv')\n",
    "employee.to_sql('employee', conn, if_exists='replace', index=False)"
   ]
  },
  {
   "cell_type": "code",
   "execution_count": 25,
   "metadata": {
    "ExecuteTime": {
     "end_time": "2021-01-09T23:48:53.853841Z",
     "start_time": "2021-01-09T23:48:53.845785Z"
    }
   },
   "outputs": [
    {
     "data": {
      "text/plain": [
       "[('69952  1',)]"
      ]
     },
     "execution_count": 25,
     "metadata": {},
     "output_type": "execute_result"
    }
   ],
   "source": [
    "c.execute('''SELECT MAX(months * salary) ||'  '|| COUNT(*) FROM employee \n",
    "             GROUP BY salary \n",
    "             HAVING MAX(months * salary) = (SELECT MAX(months * salary) FROM employee)''')\n",
    "c.fetchall()"
   ]
  }
 ],
 "metadata": {
  "kernelspec": {
   "display_name": "Python 3",
   "language": "python",
   "name": "python3"
  },
  "language_info": {
   "codemirror_mode": {
    "name": "ipython",
    "version": 3
   },
   "file_extension": ".py",
   "mimetype": "text/x-python",
   "name": "python",
   "nbconvert_exporter": "python",
   "pygments_lexer": "ipython3",
   "version": "3.8.5"
  },
  "latex_envs": {
   "LaTeX_envs_menu_present": true,
   "autoclose": false,
   "autocomplete": true,
   "bibliofile": "biblio.bib",
   "cite_by": "apalike",
   "current_citInitial": 1,
   "eqLabelWithNumbers": true,
   "eqNumInitial": 1,
   "hotkeys": {
    "equation": "Ctrl-E",
    "itemize": "Ctrl-I"
   },
   "labels_anchors": false,
   "latex_user_defs": false,
   "report_style_numbering": false,
   "user_envs_cfg": false
  },
  "toc": {
   "base_numbering": 1,
   "nav_menu": {},
   "number_sections": false,
   "sideBar": true,
   "skip_h1_title": false,
   "title_cell": "Table of Contents",
   "title_sidebar": "Contents",
   "toc_cell": true,
   "toc_position": {
    "height": "calc(100% - 180px)",
    "left": "10px",
    "top": "150px",
    "width": "165px"
   },
   "toc_section_display": true,
   "toc_window_display": false
  }
 },
 "nbformat": 4,
 "nbformat_minor": 4
}
