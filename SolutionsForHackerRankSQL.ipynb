{
 "cells": [
  {
   "cell_type": "markdown",
   "metadata": {
    "toc": true
   },
   "source": [
    "<h1>Table of Contents<span class=\"tocSkip\"></span></h1>\n",
    "<div class=\"toc\"><ul class=\"toc-item\"><li><span><a href=\"#HackerRank-SQL-Solutions,-using-Pandas\" data-toc-modified-id=\"HackerRank-SQL-Solutions,-using-Pandas-1\"><span class=\"toc-item-num\">1&nbsp;&nbsp;</span>HackerRank SQL Solutions, using Pandas</a></span><ul class=\"toc-item\"><li><span><a href=\"#Higher-than-75-marks\" data-toc-modified-id=\"Higher-than-75-marks-1.1\"><span class=\"toc-item-num\">1.1&nbsp;&nbsp;</span>Higher than 75 marks</a></span></li><li><span><a href=\"#Employee-Names\" data-toc-modified-id=\"Employee-Names-1.2\"><span class=\"toc-item-num\">1.2&nbsp;&nbsp;</span>Employee Names</a></span></li><li><span><a href=\"#Employee-Salaries\" data-toc-modified-id=\"Employee-Salaries-1.3\"><span class=\"toc-item-num\">1.3&nbsp;&nbsp;</span>Employee Salaries</a></span></li></ul></li></ul></div>"
   ]
  },
  {
   "cell_type": "markdown",
   "metadata": {},
   "source": [
    "# HackerRank SQL Solutions, using Pandas"
   ]
  },
  {
   "cell_type": "markdown",
   "metadata": {},
   "source": [
    "## Higher than 75 marks\n",
    "Question: Query the Name of any students in Students who scored higher than 75 marks. Order your output by the last three characters of each name. If two or more students both have names ending in the same last three characters such as Bobby, Robby, etc., secondary sort them by ascending ID."
   ]
  },
  {
   "cell_type": "code",
   "execution_count": 48,
   "metadata": {
    "ExecuteTime": {
     "end_time": "2020-12-28T16:48:35.543691Z",
     "start_time": "2020-12-28T16:48:35.510896Z"
    }
   },
   "outputs": [
    {
     "data": {
      "text/plain": [
       "0    Ashley\n",
       "1     Julia\n",
       "2    Belvet\n",
       "Name: Name, dtype: object"
      ]
     },
     "execution_count": 48,
     "metadata": {},
     "output_type": "execute_result"
    }
   ],
   "source": [
    "# There are three conditions.\n",
    "# condition 1: higher than 75 marks\n",
    "# condition 2: order by the last three characters of each name\n",
    "# condition 3: if the condition 2 is the same, secondary sort them by ID in ascending order\n",
    "#, which means that smaller one comes first\n",
    "\n",
    "import pandas as pd\n",
    "\n",
    "students = pd.read_csv('Students.csv')\n",
    "result = students[students['Marks']>75].reset_index(drop=True)\n",
    "\n",
    "for i, name in enumerate(result['Name']):\n",
    "    result.loc[i, 'LastThree'] = name[-3:]\n",
    "    \n",
    "result = result.sort_values(by=['LastThree', 'ID'], ascending=(True, True))['Name']\n",
    "result"
   ]
  },
  {
   "cell_type": "markdown",
   "metadata": {},
   "source": [
    "## Employee Names\n",
    "\n",
    "Question: Print a list of employee names from the Employee table in alphabetical order"
   ]
  },
  {
   "cell_type": "code",
   "execution_count": 2,
   "metadata": {
    "ExecuteTime": {
     "end_time": "2020-12-29T22:19:39.824011Z",
     "start_time": "2020-12-29T22:19:39.806003Z"
    }
   },
   "outputs": [
    {
     "data": {
      "text/plain": [
       "1      Angela\n",
       "6      Bonnie\n",
       "2       Frank\n",
       "9         Joe\n",
       "5    Kimberly\n",
       "4        Lisa\n",
       "7     Michael\n",
       "3     Patrick\n",
       "0        Rose\n",
       "8        Todd\n",
       "Name: name, dtype: object"
      ]
     },
     "execution_count": 2,
     "metadata": {},
     "output_type": "execute_result"
    }
   ],
   "source": [
    "import pandas as pd\n",
    "\n",
    "employee = pd.read_csv('Employee.csv')\n",
    "employee.sort_values(['name'])['name']"
   ]
  },
  {
   "cell_type": "markdown",
   "metadata": {},
   "source": [
    "## Employee Salaries\n",
    "\n",
    "Question: Print a list of employee names for employees in Employee having a salary greater than $ 2,000 per month who have been employeed for less than 10 months."
   ]
  },
  {
   "cell_type": "code",
   "execution_count": 8,
   "metadata": {
    "ExecuteTime": {
     "end_time": "2020-12-30T12:25:48.055123Z",
     "start_time": "2020-12-30T12:25:48.042757Z"
    }
   },
   "outputs": [
    {
     "data": {
      "text/plain": [
       "1     Angela\n",
       "7    Michael\n",
       "8       Todd\n",
       "9        Joe\n",
       "Name: name, dtype: object"
      ]
     },
     "execution_count": 8,
     "metadata": {},
     "output_type": "execute_result"
    }
   ],
   "source": [
    "# There are two conditions.\n",
    "# Condition 1: a salary is greater than $ 2,000 per month.\n",
    "# Condition 2: one has been employeed for less than 10 months.\n",
    "\n",
    "import pandas as pd\n",
    "\n",
    "employee = pd.read_csv('Employee.csv')\n",
    "employee[(employee['salary']>2000) & (employee['months']<10)]['name']"
   ]
  },
  {
   "cell_type": "code",
   "execution_count": null,
   "metadata": {},
   "outputs": [],
   "source": []
  },
  {
   "cell_type": "code",
   "execution_count": null,
   "metadata": {},
   "outputs": [],
   "source": []
  }
 ],
 "metadata": {
  "kernelspec": {
   "display_name": "Python 3",
   "language": "python",
   "name": "python3"
  },
  "language_info": {
   "codemirror_mode": {
    "name": "ipython",
    "version": 3
   },
   "file_extension": ".py",
   "mimetype": "text/x-python",
   "name": "python",
   "nbconvert_exporter": "python",
   "pygments_lexer": "ipython3",
   "version": "3.8.5"
  },
  "latex_envs": {
   "LaTeX_envs_menu_present": true,
   "autoclose": false,
   "autocomplete": true,
   "bibliofile": "biblio.bib",
   "cite_by": "apalike",
   "current_citInitial": 1,
   "eqLabelWithNumbers": true,
   "eqNumInitial": 1,
   "hotkeys": {
    "equation": "Ctrl-E",
    "itemize": "Ctrl-I"
   },
   "labels_anchors": false,
   "latex_user_defs": false,
   "report_style_numbering": false,
   "user_envs_cfg": false
  },
  "toc": {
   "base_numbering": 1,
   "nav_menu": {},
   "number_sections": true,
   "sideBar": true,
   "skip_h1_title": false,
   "title_cell": "Table of Contents",
   "title_sidebar": "Contents",
   "toc_cell": true,
   "toc_position": {
    "height": "calc(100% - 180px)",
    "left": "10px",
    "top": "150px",
    "width": "341.188px"
   },
   "toc_section_display": true,
   "toc_window_display": true
  }
 },
 "nbformat": 4,
 "nbformat_minor": 4
}
