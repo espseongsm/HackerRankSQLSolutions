{
 "cells": [
  {
   "cell_type": "markdown",
   "metadata": {
    "toc": true
   },
   "source": [
    "<h1>Table of Contents<span class=\"tocSkip\"></span></h1>\n",
    "<div class=\"toc\"><ul class=\"toc-item\"><li><span><a href=\"#HackerRank-SQL-Solutions,-using-Pandas-and-SQL\" data-toc-modified-id=\"HackerRank-SQL-Solutions,-using-Pandas-and-SQL-1\">HackerRank SQL Solutions, using Pandas and SQL</a></span><ul class=\"toc-item\"><li><span><a href=\"#Higher-than-75-marks\" data-toc-modified-id=\"Higher-than-75-marks-1.1\">Higher than 75 marks</a></span><ul class=\"toc-item\"><li><span><a href=\"#Pandas\" data-toc-modified-id=\"Pandas-1.1.1\">Pandas</a></span></li><li><span><a href=\"#SQL\" data-toc-modified-id=\"SQL-1.1.2\">SQL</a></span></li></ul></li><li><span><a href=\"#Employee-Names\" data-toc-modified-id=\"Employee-Names-1.2\">Employee Names</a></span></li><li><span><a href=\"#Employee-Salaries\" data-toc-modified-id=\"Employee-Salaries-1.3\">Employee Salaries</a></span></li><li><span><a href=\"#Type-of-Triangle\" data-toc-modified-id=\"Type-of-Triangle-1.4\">Type of Triangle</a></span></li><li><span><a href=\"#The-PADS\" data-toc-modified-id=\"The-PADS-1.5\">The PADS</a></span></li><li><span><a href=\"#Occupations\" data-toc-modified-id=\"Occupations-1.6\">Occupations</a></span></li></ul></li></ul></div>"
   ]
  },
  {
   "cell_type": "markdown",
   "metadata": {},
   "source": [
    "# HackerRank SQL Solutions, using Pandas and SQL"
   ]
  },
  {
   "cell_type": "markdown",
   "metadata": {},
   "source": [
    "## Higher than 75 marks\n",
    "Question: Query the Name of any students in Students who scored higher than 75 marks. Order your output by the last three characters of each name. If two or more students both have names ending in the same last three characters such as Bobby, Robby, etc., secondary sort them by ascending ID."
   ]
  },
  {
   "cell_type": "markdown",
   "metadata": {},
   "source": [
    "### Pandas"
   ]
  },
  {
   "cell_type": "code",
   "execution_count": 162,
   "metadata": {
    "ExecuteTime": {
     "end_time": "2021-01-02T14:44:40.029367Z",
     "start_time": "2021-01-02T14:44:40.004051Z"
    }
   },
   "outputs": [
    {
     "data": {
      "text/plain": [
       "0    Ashley\n",
       "1     Julia\n",
       "2    Belvet\n",
       "Name: Name, dtype: object"
      ]
     },
     "execution_count": 162,
     "metadata": {},
     "output_type": "execute_result"
    }
   ],
   "source": [
    "# There are three conditions.\n",
    "# condition 1: higher than 75 marks\n",
    "# condition 2: order by the last three characters of each name\n",
    "# condition 3: if the condition 2 is the same, secondary sort them by ID in ascending order\n",
    "#, which means that smaller one comes first\n",
    "\n",
    "import pandas as pd\n",
    "\n",
    "students = pd.read_csv('Students.csv')\n",
    "result = students[students['Marks']>75].reset_index(drop=True)\n",
    "\n",
    "for i, name in enumerate(result['Name']):\n",
    "    result.loc[i, 'LastThree'] = name[-3:]\n",
    "    \n",
    "result = result.sort_values(by=['LastThree', 'ID'], ascending=(True, True))['Name']\n",
    "result"
   ]
  },
  {
   "cell_type": "markdown",
   "metadata": {},
   "source": [
    "### SQL"
   ]
  },
  {
   "cell_type": "code",
   "execution_count": 202,
   "metadata": {
    "ExecuteTime": {
     "end_time": "2021-01-02T15:21:33.798198Z",
     "start_time": "2021-01-02T15:21:33.777831Z"
    }
   },
   "outputs": [
    {
     "data": {
      "text/plain": [
       "[('Ashley',), ('Julia',), ('Belvet',)]"
      ]
     },
     "execution_count": 202,
     "metadata": {},
     "output_type": "execute_result"
    }
   ],
   "source": [
    "# creating a database\n",
    "from pathlib import Path\n",
    "Path('students.db').touch()\n",
    "\n",
    "# connecting the database\n",
    "import sqlite3\n",
    "conn = sqlite3.connect('students.db')\n",
    "c = conn.cursor()\n",
    "\n",
    "# creating a table in the database\n",
    "c.execute('''DROP TABLE students''')\n",
    "c.execute('''CREATE TABLE students (ID int, Name text, Marks int)''')\n",
    "\n",
    "# write the data to a sqlite table\n",
    "students.to_sql('students', conn, if_exists='replace', index = False)\n",
    "\n",
    "# execute sql query \n",
    "c.execute('''SELECT Name FROM students \n",
    "             WHERE Marks > 75 \n",
    "             ORDER BY substr(Name, -3, 3) ASC, ID ASC''')\n",
    "# substr function has three arguments: string, starting point, length I want\n",
    "c.fetchall()"
   ]
  },
  {
   "cell_type": "markdown",
   "metadata": {},
   "source": [
    "## Employee Names\n",
    "\n",
    "Question: Print a list of employee names from the Employee table in alphabetical order"
   ]
  },
  {
   "cell_type": "code",
   "execution_count": 2,
   "metadata": {
    "ExecuteTime": {
     "end_time": "2020-12-29T22:19:39.824011Z",
     "start_time": "2020-12-29T22:19:39.806003Z"
    }
   },
   "outputs": [
    {
     "data": {
      "text/plain": [
       "1      Angela\n",
       "6      Bonnie\n",
       "2       Frank\n",
       "9         Joe\n",
       "5    Kimberly\n",
       "4        Lisa\n",
       "7     Michael\n",
       "3     Patrick\n",
       "0        Rose\n",
       "8        Todd\n",
       "Name: name, dtype: object"
      ]
     },
     "execution_count": 2,
     "metadata": {},
     "output_type": "execute_result"
    }
   ],
   "source": [
    "import pandas as pd\n",
    "\n",
    "employee = pd.read_csv('Employee.csv')\n",
    "employee.sort_values(['name'])['name']"
   ]
  },
  {
   "cell_type": "markdown",
   "metadata": {},
   "source": [
    "## Employee Salaries\n",
    "\n",
    "Question: Print a list of employee names for employees in Employee having a salary greater than $ 2,000 per month who have been employeed for less than 10 months."
   ]
  },
  {
   "cell_type": "code",
   "execution_count": null,
   "metadata": {
    "ExecuteTime": {
     "end_time": "2020-12-30T12:25:48.055123Z",
     "start_time": "2020-12-30T12:25:48.042757Z"
    }
   },
   "outputs": [],
   "source": [
    "# There are two conditions.\n",
    "# Condition 1: a salary is greater than $ 2,000 per month.\n",
    "# Condition 2: one has been employeed for less than 10 months.\n",
    "\n",
    "import pandas as pd\n",
    "\n",
    "employee = pd.read_csv('Employee.csv')\n",
    "employee[(employee['salary']>2000) & (employee['months']<10)]['name']"
   ]
  },
  {
   "cell_type": "markdown",
   "metadata": {},
   "source": [
    "## Type of Triangle\n",
    "\n",
    "Question: Write a query indentifying the type of each record in the TRIANGLES table using its three side lengths. Output one of the following statements for each record in the table:\n",
    "- Equilateral: it's a triangle with 3 sides of equal length\n",
    "- Isosceles: it's a triangle with 2 sides of equal length\n",
    "- Scalene: it's a triangle with 3 sides of differing lengths\n",
    "- Not A Triangle: the given values of A, B, and C don't form a triangle"
   ]
  },
  {
   "cell_type": "code",
   "execution_count": 37,
   "metadata": {
    "ExecuteTime": {
     "end_time": "2020-12-31T17:24:27.404855Z",
     "start_time": "2020-12-31T17:24:27.380666Z"
    }
   },
   "outputs": [
    {
     "data": {
      "text/plain": [
       "0         Isosceles\n",
       "1       Equilateral\n",
       "2           Scalene\n",
       "3    Not A Triangle\n",
       "Name: Type, dtype: object"
      ]
     },
     "execution_count": 37,
     "metadata": {},
     "output_type": "execute_result"
    }
   ],
   "source": [
    "# first, figure out whether each row forms a triangle, which means that \n",
    "# if one of sides is longer than the sum of other two sides, that doesn't form a triangle.\n",
    "# then, set the type of triangles\n",
    "\n",
    "import pandas as pd\n",
    "\n",
    "triangles = pd.read_csv('TRIANGLES.csv')\n",
    "triangles['Type'] = ''\n",
    "\n",
    "for i, row in triangles.iterrows():\n",
    "    if row[0] > row[1] + row[2] or row[1] > row[2] + row[0] or row[2] > row[1] + row[0]:\n",
    "        triangles.loc[i, 'Type'] = 'Not A Triangle'\n",
    "    else:\n",
    "        if row[0] == row[1] == row[2]:\n",
    "            triangles.loc[i, 'Type'] = 'Equilateral'\n",
    "        elif row[0] == row[1] or row[0] == row[2] or row[1] == row[2]:\n",
    "            triangles.loc[i, 'Type'] = 'Isosceles'\n",
    "        else:\n",
    "            triangles.loc[i, 'Type'] = 'Scalene'\n",
    "            \n",
    "triangles['Type']"
   ]
  },
  {
   "cell_type": "markdown",
   "metadata": {},
   "source": [
    "## The PADS\n",
    "Question1: query an alphabetically ordered list of all names in Occupations, immediately followed by the first letter of each profession as a parenthetical (i.e.: enclosed in parentheses). For example: AnActorName(A), ADoctorName(D), AProfessorName(P), and ASingerName(S).\n",
    "\n",
    "Question2: Query the number of occurences of each occupation in Occupations. Sort the occurences in ascending order, and output them in the following format: `There are a total of [occupation_count] [occupation]s.` [occupation] is the lowercase occupation name. If more than one occupation has the same [occupation_count], they should be ordered alphabetically.\n",
    "\n"
   ]
  },
  {
   "cell_type": "code",
   "execution_count": 77,
   "metadata": {
    "ExecuteTime": {
     "end_time": "2021-01-01T22:50:10.142356Z",
     "start_time": "2021-01-01T22:50:10.121922Z"
    }
   },
   "outputs": [
    {
     "data": {
      "text/plain": [
       "0     Samantha(D)\n",
       "1        Julia(A)\n",
       "2        Maria(A)\n",
       "3        Meera(S)\n",
       "4       Ashely(P)\n",
       "5        Ketty(P)\n",
       "6    Christeen(P)\n",
       "7         Jane(A)\n",
       "8        Jenny(D)\n",
       "9        Priya(S)\n",
       "Name: Name_O, dtype: object"
      ]
     },
     "execution_count": 77,
     "metadata": {},
     "output_type": "execute_result"
    }
   ],
   "source": [
    "# question 1\n",
    "\n",
    "import pandas as pd\n",
    "\n",
    "occupations = pd.read_csv('Occupations.csv')\n",
    "occupations['Name_O'] = ''\n",
    "\n",
    "for i, occupation in enumerate(occupations['Occupation']):\n",
    "    if occupation == 'Doctor':\n",
    "        occupations.loc[i, 'Name_O'] = occupations.loc[i,'Name'] + '(D)'\n",
    "    elif occupation == 'Actor':\n",
    "        occupations.loc[i, 'Name_O'] = occupations.loc[i,'Name'] + '(A)'\n",
    "    elif occupation == 'Singer':\n",
    "        occupations.loc[i, 'Name_O'] = occupations.loc[i,'Name'] + '(S)'\n",
    "    else:\n",
    "        occupations.loc[i, 'Name_O'] = occupations.loc[i,'Name'] + '(P)'\n",
    "\n",
    "\n",
    "\n",
    "result1 = occupations['Name_O']\n",
    "result1"
   ]
  },
  {
   "cell_type": "code",
   "execution_count": 104,
   "metadata": {
    "ExecuteTime": {
     "end_time": "2021-01-01T23:04:53.367646Z",
     "start_time": "2021-01-01T23:04:53.352629Z"
    }
   },
   "outputs": [
    {
     "data": {
      "text/plain": [
       "0       There are a total of 2 doctors.\n",
       "1       There are a total of 2 singers.\n",
       "2        There are a total of 3 actors.\n",
       "3    There are a total of 3 professors.\n",
       "Name: Explanation, dtype: object"
      ]
     },
     "execution_count": 104,
     "metadata": {},
     "output_type": "execute_result"
    }
   ],
   "source": [
    "# Question 2\n",
    "occupations.drop(columns='Name_O', inplace=True)\n",
    "\n",
    "result2 = occupations.groupby('Occupation').agg('count')\n",
    "result2 = result2.sort_values(['Name', 'Occupation']).reset_index()\n",
    "result2['Explanation'] = ''\n",
    "\n",
    "for i, occupation in enumerate(result2['Occupation']):\n",
    "    result2.loc[i, 'Explanation'] = ('There are a total of ' + str(result2.loc[i, 'Name']) \n",
    "                                         + ' ' + result2.loc[i, 'Occupation'].lower() + 's.')      \n",
    "result2 = result2['Explanation']\n",
    "result2"
   ]
  },
  {
   "cell_type": "markdown",
   "metadata": {},
   "source": [
    "## Occupations\n",
    "Question: Pivot the Occupation column in OCCUPATIONS so that each Name is sorted alphabetically and displayed underneath its corresponding Occupation. The output column headers should be Doctor, Professor, Singer, and Actor, respectively."
   ]
  },
  {
   "cell_type": "code",
   "execution_count": 160,
   "metadata": {
    "ExecuteTime": {
     "end_time": "2021-01-02T13:54:21.273596Z",
     "start_time": "2021-01-02T13:54:21.245830Z"
    }
   },
   "outputs": [
    {
     "data": {
      "text/html": [
       "<div>\n",
       "<style scoped>\n",
       "    .dataframe tbody tr th:only-of-type {\n",
       "        vertical-align: middle;\n",
       "    }\n",
       "\n",
       "    .dataframe tbody tr th {\n",
       "        vertical-align: top;\n",
       "    }\n",
       "\n",
       "    .dataframe thead th {\n",
       "        text-align: right;\n",
       "    }\n",
       "</style>\n",
       "<table border=\"1\" class=\"dataframe\">\n",
       "  <thead>\n",
       "    <tr style=\"text-align: right;\">\n",
       "      <th>Occupation</th>\n",
       "      <th>Doctor</th>\n",
       "      <th>Professor</th>\n",
       "      <th>Singer</th>\n",
       "      <th>Actor</th>\n",
       "    </tr>\n",
       "  </thead>\n",
       "  <tbody>\n",
       "    <tr>\n",
       "      <th>Name</th>\n",
       "      <td>[Samantha, Jenny]</td>\n",
       "      <td>[Ashely, Ketty, Christeen]</td>\n",
       "      <td>[Meera, Priya]</td>\n",
       "      <td>[Julia, Maria, Jane]</td>\n",
       "    </tr>\n",
       "  </tbody>\n",
       "</table>\n",
       "</div>"
      ],
      "text/plain": [
       "Occupation             Doctor                   Professor          Singer  \\\n",
       "Name        [Samantha, Jenny]  [Ashely, Ketty, Christeen]  [Meera, Priya]   \n",
       "\n",
       "Occupation                 Actor  \n",
       "Name        [Julia, Maria, Jane]  "
      ]
     },
     "execution_count": 160,
     "metadata": {},
     "output_type": "execute_result"
    }
   ],
   "source": [
    "import pandas as pd\n",
    "\n",
    "df = pd.read_csv('Occupations.csv')\n",
    "groups = df.groupby('Occupation')['Name'].apply(list).reset_index()\n",
    "result = groups.T\n",
    "new_header = result.iloc[0]\n",
    "result = result[1:]\n",
    "result.columns = new_header\n",
    "result = result[['Doctor', 'Professor', 'Singer', 'Actor']]\n",
    "result\n",
    "# groups = df.groupby('Occupation').agg(lambda x: list(x))\n",
    "# groups\n",
    "# for name, group in groups:\n",
    "#     print(name)\n",
    "#     print(group)"
   ]
  },
  {
   "cell_type": "code",
   "execution_count": null,
   "metadata": {},
   "outputs": [],
   "source": []
  }
 ],
 "metadata": {
  "kernelspec": {
   "display_name": "Python 3",
   "language": "python",
   "name": "python3"
  },
  "language_info": {
   "codemirror_mode": {
    "name": "ipython",
    "version": 3
   },
   "file_extension": ".py",
   "mimetype": "text/x-python",
   "name": "python",
   "nbconvert_exporter": "python",
   "pygments_lexer": "ipython3",
   "version": "3.8.5"
  },
  "latex_envs": {
   "LaTeX_envs_menu_present": true,
   "autoclose": false,
   "autocomplete": true,
   "bibliofile": "biblio.bib",
   "cite_by": "apalike",
   "current_citInitial": 1,
   "eqLabelWithNumbers": true,
   "eqNumInitial": 1,
   "hotkeys": {
    "equation": "Ctrl-E",
    "itemize": "Ctrl-I"
   },
   "labels_anchors": false,
   "latex_user_defs": false,
   "report_style_numbering": false,
   "user_envs_cfg": false
  },
  "toc": {
   "base_numbering": 1,
   "nav_menu": {},
   "number_sections": false,
   "sideBar": true,
   "skip_h1_title": false,
   "title_cell": "Table of Contents",
   "title_sidebar": "Contents",
   "toc_cell": true,
   "toc_position": {
    "height": "calc(100% - 180px)",
    "left": "10px",
    "top": "150px",
    "width": "341.188px"
   },
   "toc_section_display": true,
   "toc_window_display": true
  }
 },
 "nbformat": 4,
 "nbformat_minor": 4
}
